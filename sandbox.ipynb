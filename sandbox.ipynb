{
 "cells": [
  {
   "cell_type": "code",
   "execution_count": 2,
   "metadata": {},
   "outputs": [],
   "source": [
    "import torch\n",
    "import torch.nn as nn"
   ]
  },
  {
   "cell_type": "code",
   "execution_count": 5,
   "metadata": {},
   "outputs": [
    {
     "name": "stdout",
     "output_type": "stream",
     "text": [
      "[[2 3]\n",
      " [2 3]]\n"
     ]
    }
   ],
   "source": [
    "# In these examples we work with one value, omitting the batch size\n",
    "# Here is a normal attention implementation\n",
    "query = torch.tensor([[1, 2],\n",
    "                      [1, 2]])\n",
    "keys = torch.tensor([[0, 1], \n",
    "                     [1, 1]])\n",
    "\n",
    "energy = torch.einsum(\"qd,kd->qk\", [query, keys])\n",
    "\n",
    "print(energy.numpy())"
   ]
  },
  {
   "cell_type": "code",
   "execution_count": 11,
   "metadata": {},
   "outputs": [
    {
     "name": "stdout",
     "output_type": "stream",
     "text": [
      "[[[2 3]\n",
      "  [2 3]]\n",
      "\n",
      " [[1 0]\n",
      "  [1 0]]]\n"
     ]
    }
   ],
   "source": [
    "# Here is a multi-headed attention implementation\n",
    "# We have a query vector of len 2 with 2 heads and an embed_dim of 4\n",
    "query = torch.tensor([[[1, 2], [1, 3]], \n",
    "                      [[1, 2], [1, 3]]])\n",
    "keys = torch.tensor([[[0, 1], [1, 0]], \n",
    "                     [[1, 1], [0, 0]]])\n",
    "\n",
    "energy = torch.einsum(\"qhd,khd->hqk\", [query, keys])\n",
    "\n",
    "print(energy.numpy())"
   ]
  }
 ],
 "metadata": {
  "kernelspec": {
   "display_name": "Python 3.9.13 64-bit (microsoft store)",
   "language": "python",
   "name": "python3"
  },
  "language_info": {
   "codemirror_mode": {
    "name": "ipython",
    "version": 3
   },
   "file_extension": ".py",
   "mimetype": "text/x-python",
   "name": "python",
   "nbconvert_exporter": "python",
   "pygments_lexer": "ipython3",
   "version": "3.9.13"
  },
  "orig_nbformat": 4,
  "vscode": {
   "interpreter": {
    "hash": "82f683dd123de67c0948ad26cbbc56c57072c9839729efd95fe7dd8dbf92a24d"
   }
  }
 },
 "nbformat": 4,
 "nbformat_minor": 2
}
