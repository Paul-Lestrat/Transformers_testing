{
 "cells": [
  {
   "cell_type": "code",
   "execution_count": 1,
   "metadata": {},
   "outputs": [],
   "source": [
    "import torch\n",
    "import torch.nn as nn"
   ]
  },
  {
   "cell_type": "code",
   "execution_count": 15,
   "metadata": {},
   "outputs": [
    {
     "ename": "RuntimeError",
     "evalue": "einsum(): the number of subscripts in the equation (2) does not match the number of dimensions (3) for operand 1 and no ellipsis was given",
     "output_type": "error",
     "traceback": [
      "\u001b[1;31m---------------------------------------------------------------------------\u001b[0m",
      "\u001b[1;31mRuntimeError\u001b[0m                              Traceback (most recent call last)",
      "\u001b[1;32mc:\\Users\\paull\\Documents\\GitHub\\Transformers_testing\\sandbox.ipynb Cellule 2\u001b[0m in \u001b[0;36m<cell line: 7>\u001b[1;34m()\u001b[0m\n\u001b[0;32m      <a href='vscode-notebook-cell:/c%3A/Users/paull/Documents/GitHub/Transformers_testing/sandbox.ipynb#W1sZmlsZQ%3D%3D?line=1'>2</a>\u001b[0m query \u001b[39m=\u001b[39m torch\u001b[39m.\u001b[39mtensor([[\u001b[39m1\u001b[39m, \u001b[39m2\u001b[39m],\n\u001b[0;32m      <a href='vscode-notebook-cell:/c%3A/Users/paull/Documents/GitHub/Transformers_testing/sandbox.ipynb#W1sZmlsZQ%3D%3D?line=2'>3</a>\u001b[0m                       [\u001b[39m1\u001b[39m, \u001b[39m2\u001b[39m]])\n\u001b[0;32m      <a href='vscode-notebook-cell:/c%3A/Users/paull/Documents/GitHub/Transformers_testing/sandbox.ipynb#W1sZmlsZQ%3D%3D?line=3'>4</a>\u001b[0m keys \u001b[39m=\u001b[39m torch\u001b[39m.\u001b[39mtensor([[[\u001b[39m0\u001b[39m, \u001b[39m1\u001b[39m]], \n\u001b[0;32m      <a href='vscode-notebook-cell:/c%3A/Users/paull/Documents/GitHub/Transformers_testing/sandbox.ipynb#W1sZmlsZQ%3D%3D?line=4'>5</a>\u001b[0m                      [[\u001b[39m1\u001b[39m, \u001b[39m1\u001b[39m]]])\n\u001b[1;32m----> <a href='vscode-notebook-cell:/c%3A/Users/paull/Documents/GitHub/Transformers_testing/sandbox.ipynb#W1sZmlsZQ%3D%3D?line=6'>7</a>\u001b[0m energy \u001b[39m=\u001b[39m torch\u001b[39m.\u001b[39;49meinsum(\u001b[39m\"\u001b[39;49m\u001b[39mqd,kd->qk\u001b[39;49m\u001b[39m\"\u001b[39;49m, [query, keys])\n\u001b[0;32m      <a href='vscode-notebook-cell:/c%3A/Users/paull/Documents/GitHub/Transformers_testing/sandbox.ipynb#W1sZmlsZQ%3D%3D?line=8'>9</a>\u001b[0m \u001b[39mprint\u001b[39m(energy\u001b[39m.\u001b[39mnumpy())\n",
      "File \u001b[1;32m~\\AppData\\Local\\Packages\\PythonSoftwareFoundation.Python.3.9_qbz5n2kfra8p0\\LocalCache\\local-packages\\Python39\\site-packages\\torch\\functional.py:358\u001b[0m, in \u001b[0;36meinsum\u001b[1;34m(*args)\u001b[0m\n\u001b[0;32m    355\u001b[0m     _operands \u001b[39m=\u001b[39m operands[\u001b[39m0\u001b[39m]\n\u001b[0;32m    356\u001b[0m     \u001b[39m# recurse incase operands contains value that has torch function\u001b[39;00m\n\u001b[0;32m    357\u001b[0m     \u001b[39m# in the original implementation this line is omitted\u001b[39;00m\n\u001b[1;32m--> 358\u001b[0m     \u001b[39mreturn\u001b[39;00m einsum(equation, \u001b[39m*\u001b[39;49m_operands)\n\u001b[0;32m    360\u001b[0m \u001b[39mreturn\u001b[39;00m _VF\u001b[39m.\u001b[39meinsum(equation, operands)\n",
      "File \u001b[1;32m~\\AppData\\Local\\Packages\\PythonSoftwareFoundation.Python.3.9_qbz5n2kfra8p0\\LocalCache\\local-packages\\Python39\\site-packages\\torch\\functional.py:360\u001b[0m, in \u001b[0;36meinsum\u001b[1;34m(*args)\u001b[0m\n\u001b[0;32m    356\u001b[0m     \u001b[39m# recurse incase operands contains value that has torch function\u001b[39;00m\n\u001b[0;32m    357\u001b[0m     \u001b[39m# in the original implementation this line is omitted\u001b[39;00m\n\u001b[0;32m    358\u001b[0m     \u001b[39mreturn\u001b[39;00m einsum(equation, \u001b[39m*\u001b[39m_operands)\n\u001b[1;32m--> 360\u001b[0m \u001b[39mreturn\u001b[39;00m _VF\u001b[39m.\u001b[39;49meinsum(equation, operands)\n",
      "\u001b[1;31mRuntimeError\u001b[0m: einsum(): the number of subscripts in the equation (2) does not match the number of dimensions (3) for operand 1 and no ellipsis was given"
     ]
    }
   ],
   "source": [
    "# Here is a normal attention attention implementation\n",
    "query = torch.tensor([[1, 2],\n",
    "                      [1, 2]])\n",
    "keys = torch.tensor([[[0, 1]], \n",
    "                     [[1, 1]]])\n",
    "\n",
    "energy = torch.einsum(\"qd,kd->qk\", [query, keys])\n",
    "\n",
    "print(energy.numpy())"
   ]
  },
  {
   "cell_type": "code",
   "execution_count": 11,
   "metadata": {},
   "outputs": [
    {
     "name": "stdout",
     "output_type": "stream",
     "text": [
      "[[[2 3]\n",
      "  [2 3]]\n",
      "\n",
      " [[1 0]\n",
      "  [1 0]]]\n"
     ]
    }
   ],
   "source": [
    "# In this example we work with one value, omitting the batch size\n",
    "# We have a query vector of len 2 with 2 heads and an embed_dim of 4\n",
    "query = torch.tensor([[[1, 2], [1, 3]], \n",
    "                      [[1, 2], [1, 3]]])\n",
    "keys = torch.tensor([[[0, 1], [1, 0]], \n",
    "                     [[1, 1], [0, 0]]])\n",
    "\n",
    "energy = torch.einsum(\"qhd,khd->hqk\", [query, keys])\n",
    "\n",
    "print(energy.numpy())"
   ]
  }
 ],
 "metadata": {
  "kernelspec": {
   "display_name": "Python 3.9.13 64-bit (microsoft store)",
   "language": "python",
   "name": "python3"
  },
  "language_info": {
   "codemirror_mode": {
    "name": "ipython",
    "version": 3
   },
   "file_extension": ".py",
   "mimetype": "text/x-python",
   "name": "python",
   "nbconvert_exporter": "python",
   "pygments_lexer": "ipython3",
   "version": "3.9.13"
  },
  "orig_nbformat": 4,
  "vscode": {
   "interpreter": {
    "hash": "82f683dd123de67c0948ad26cbbc56c57072c9839729efd95fe7dd8dbf92a24d"
   }
  }
 },
 "nbformat": 4,
 "nbformat_minor": 2
}
